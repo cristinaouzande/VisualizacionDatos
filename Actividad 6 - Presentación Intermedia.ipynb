{
 "cells": [
  {
   "cell_type": "markdown",
   "id": "4c5bfbf2-6432-4cb6-b244-6dae0889abba",
   "metadata": {},
   "source": [
    "## Actividad 6: Presentación Intermedia "
   ]
  },
  {
   "cell_type": "markdown",
   "id": "8e400397-1a92-4e13-9267-21b579fcd024",
   "metadata": {},
   "source": [
    "## Base de Datos \n",
    "Wine Quality - Red Wine"
   ]
  },
  {
   "cell_type": "markdown",
   "id": "e2dc658d-b502-49a7-b561-5de0397a0dd1",
   "metadata": {},
   "source": [
    "## Descripción de las Variables de Interés \n",
    "\n",
    "Mis variables de interés en esta base de datos \"Wine Quality\" son: quality, pH, alcohol, y free sulfur dioxide.\n",
    "\n",
    "- Quality: La calidad es el output variable tambien considerada una variable categorica ya que determina el nivel de calidad del vino tinto, se base en una escala del 0-10, 10 siendo la mejor calidad. \n",
    "- pH: El pH es una variable numérica, esta indica la cantidad de pH, la cual determina la acidez del vino. Un vino con un pH de 2.8 es extremadamente ácido, mientras que un vino con un pH de 4 no es ácido. \n",
    "- Alcohol: El alcohol es una variable numérica ya que indica la cantidad de alcohol en el vino. \n",
    "- Free Sulfur Dioxide: Es una variable numérica ya que indica la cantidad de dioxido de azufre en el vino. Este componente reduce la calidad del vino. \n"
   ]
  },
  {
   "cell_type": "markdown",
   "id": "e9b5a03a-b8ee-41e4-aa41-a10b617574e9",
   "metadata": {},
   "source": [
    "## Hallazgos "
   ]
  },
  {
   "cell_type": "markdown",
   "id": "969772c2-4878-494c-889a-ea98fd0c2fc9",
   "metadata": {},
   "source": [
    "Pregunta 1: ¿Existe alguna correlación entre las variables free sulfur dioxide y la calidad del vino? "
   ]
  },
  {
   "cell_type": "code",
   "execution_count": null,
   "id": "54a9c2ab-c023-4466-b781-fa8efedb3d98",
   "metadata": {},
   "outputs": [],
   "source": []
  }
 ],
 "metadata": {
  "kernelspec": {
   "display_name": "Python 3 (ipykernel)",
   "language": "python",
   "name": "python3"
  },
  "language_info": {
   "codemirror_mode": {
    "name": "ipython",
    "version": 3
   },
   "file_extension": ".py",
   "mimetype": "text/x-python",
   "name": "python",
   "nbconvert_exporter": "python",
   "pygments_lexer": "ipython3",
   "version": "3.7.10"
  }
 },
 "nbformat": 4,
 "nbformat_minor": 5
}
